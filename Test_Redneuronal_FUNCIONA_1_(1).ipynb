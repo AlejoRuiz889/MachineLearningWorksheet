{
  "cells": [
    {
      "cell_type": "code",
      "execution_count": null,
      "metadata": {
        "id": "qfO6JrKap2Y1"
      },
      "outputs": [],
      "source": [
        "import pywt\n",
        "import numpy as np\n",
        "import matplotlib.pyplot as plt\n",
        "from collections import defaultdict, Counter\n",
        "import keras\n",
        "import os\n",
        "import re\n",
        "from keras.layers import Dense, Flatten\n",
        "from keras.layers import Conv2D, MaxPooling2D\n",
        "from keras.models import Sequential\n",
        "from keras.callbacks import History\n",
        "from tensorflow.keras.callbacks import EarlyStopping\n",
        "history = History()"
      ]
    },
    {
      "cell_type": "code",
      "source": [
        "import numpy as np\n",
        "import os\n",
        "import re\n",
        "import matplotlib.pyplot as plt\n",
        "%matplotlib inline\n",
        "from sklearn.model_selection import train_test_split\n",
        "from sklearn.metrics import classification_report\n",
        "from PIL import Image\n",
        "import glob\n",
        "import cv2\n",
        "from matplotlib.image import imread\n",
        "from tensorflow.keras.callbacks import History\n",
        "history = History()\n",
        "from tensorflow.keras.utils import to_categorical"
      ],
      "metadata": {
        "id": "nhBrobpnMuQC"
      },
      "execution_count": null,
      "outputs": []
    },
    {
      "cell_type": "code",
      "execution_count": null,
      "metadata": {
        "id": "e2nE0bKzt2ra",
        "colab": {
          "base_uri": "https://localhost:8080/"
        },
        "outputId": "05619ee4-e67d-4b5c-8123-2a28bd7bfb2d"
      },
      "outputs": [
        {
          "output_type": "stream",
          "name": "stdout",
          "text": [
            "Drive already mounted at /content/drive; to attempt to forcibly remount, call drive.mount(\"/content/drive\", force_remount=True).\n"
          ]
        }
      ],
      "source": [
        "import keras\n",
        "from tensorflow.keras.utils import to_categorical\n",
        "from tensorflow.keras.models import Sequential,  Model\n",
        "from tensorflow.keras.layers import Dense, Dropout, Flatten, Input\n",
        "from tensorflow.keras.layers import Conv2D, MaxPooling2D\n",
        "from tensorflow.keras.layers import BatchNormalization\n",
        "from tensorflow.keras.layers import LeakyReLU\n",
        "import tensorflow as tf\n",
        "from google.colab import drive\n",
        "drive.mount('/content/drive')\n",
        "from sklearn.model_selection import train_test_split"
      ]
    },
    {
      "cell_type": "code",
      "source": [],
      "metadata": {
        "id": "mDKRuOCQFT-W"
      },
      "execution_count": null,
      "outputs": []
    },
    {
      "cell_type": "code",
      "execution_count": null,
      "metadata": {
        "colab": {
          "base_uri": "https://localhost:8080/"
        },
        "id": "kAY-URZNqqrC",
        "outputId": "889da8b2-f00d-47e5-b8c4-0c17d364e945"
      },
      "outputs": [
        {
          "output_type": "stream",
          "name": "stdout",
          "text": [
            "leyendo imagenes de  /content/drive/MyDrive/TESIS/VALIDACIÓN_EXPERMENTOS_CWT/ONE_TO_ONE/P4_128/\n",
            "/content/drive/MyDrive/TESIS/VALIDACIÓN_EXPERMENTOS_CWT/ONE_TO_ONE/P4_128/Clase_3 1\n",
            "/content/drive/MyDrive/TESIS/VALIDACIÓN_EXPERMENTOS_CWT/ONE_TO_ONE/P4_128/Clase_4 128\n",
            "/content/drive/MyDrive/TESIS/VALIDACIÓN_EXPERMENTOS_CWT/ONE_TO_ONE/P4_128/Clase_5 128\n",
            "/content/drive/MyDrive/TESIS/VALIDACIÓN_EXPERMENTOS_CWT/ONE_TO_ONE/P4_128/Clase_2 128\n",
            "/content/drive/MyDrive/TESIS/VALIDACIÓN_EXPERMENTOS_CWT/ONE_TO_ONE/P4_128/Clase_1 128\n",
            "/content/drive/MyDrive/TESIS/VALIDACIÓN_EXPERMENTOS_CWT/ONE_TO_ONE/P4_128/Clase_6 128\n",
            "Directorios leidos: 6\n",
            "Imagenes en cada directorio [129, 128, 128, 128, 128, 127]\n",
            "suma Total de imagenes en subdirs: 768\n"
          ]
        }
      ],
      "source": [
        "dirname = \"/content/drive/MyDrive/TESIS/VALIDACIÓN_EXPERMENTOS_CWT/ONE_TO_ONE/P4_128\"\n",
        "imgpath = dirname + os.sep\n",
        "\n",
        "images = []\n",
        "directories = []\n",
        "dircount = []\n",
        "prevRoot=''\n",
        "cant=0\n",
        "\n",
        "print(\"leyendo imagenes de \",imgpath)\n",
        "\n",
        "for root, dirnames, filenames in os.walk(imgpath):\n",
        "    for filename in filenames:\n",
        "        if re.search(\"\\.(jpg|jpeg|png|bmp|tiff)$\", filename):\n",
        "            cant=cant+1\n",
        "            filepath = os.path.join(root, filename)\n",
        "            image = plt.imread(filepath)\n",
        "            images.append(image)\n",
        "            b = \"Leyendo...\" + str(cant)\n",
        "            print (b, end=\"\\r\")\n",
        "            if prevRoot !=root:\n",
        "                print(root, cant)\n",
        "                prevRoot=root\n",
        "                directories.append(root)\n",
        "                dircount.append(cant)\n",
        "                cant=0\n",
        "\n",
        "dircount.append(cant)\n",
        "\n",
        "dircount = dircount[1:]\n",
        "dircount[0]=dircount[0]+1\n",
        "print('Directorios leidos:',len(directories))\n",
        "print(\"Imagenes en cada directorio\", dircount)\n",
        "print('suma Total de imagenes en subdirs:',sum(dircount))"
      ]
    },
    {
      "cell_type": "code",
      "execution_count": null,
      "metadata": {
        "colab": {
          "base_uri": "https://localhost:8080/"
        },
        "id": "QA-bTToLq3QT",
        "outputId": "0d283bc0-f375-4f71-e4cf-1800b3211d8e"
      },
      "outputs": [
        {
          "output_type": "stream",
          "name": "stdout",
          "text": [
            "Cantidad etiquetas creadas:  768\n"
          ]
        }
      ],
      "source": [
        "labels=[]\n",
        "indice=0\n",
        "for cantidad in dircount:\n",
        "    for i in range(cantidad):\n",
        "        labels.append(indice)\n",
        "    indice=indice+1\n",
        "print(\"Cantidad etiquetas creadas: \",len(labels))"
      ]
    },
    {
      "cell_type": "code",
      "execution_count": null,
      "metadata": {
        "colab": {
          "base_uri": "https://localhost:8080/"
        },
        "id": "DUtb3amOq4QY",
        "outputId": "0a0f157e-374f-4d30-b4ba-67e79d085038"
      },
      "outputs": [
        {
          "output_type": "stream",
          "name": "stdout",
          "text": [
            "0 Clase_3\n",
            "1 Clase_4\n",
            "2 Clase_5\n",
            "3 Clase_2\n",
            "4 Clase_1\n",
            "5 Clase_6\n"
          ]
        }
      ],
      "source": [
        "posturas=[]\n",
        "indice=0\n",
        "for directorio in directories:\n",
        "    name = directorio.split(os.sep)\n",
        "    print(indice , name[len(name)-1])\n",
        "    posturas.append(name[len(name)-1])\n",
        "    indice=indice+1"
      ]
    },
    {
      "cell_type": "code",
      "execution_count": null,
      "metadata": {
        "colab": {
          "base_uri": "https://localhost:8080/"
        },
        "id": "3czPZC4gq9Dh",
        "outputId": "56e557c9-42aa-485a-af8f-bffcc9d1ea1c"
      },
      "outputs": [
        {
          "output_type": "stream",
          "name": "stdout",
          "text": [
            "Total number of outputs :  6\n",
            "Output classes :  [0 1 2 3 4 5]\n"
          ]
        }
      ],
      "source": [
        "y = np.array(labels)\n",
        "X = np.array(images) #convierto de lista a numpy\n",
        "\n",
        "# Find the unique numbers from the train labels\n",
        "classes = np.unique(y)\n",
        "nClasses = len(classes)\n",
        "print('Total number of outputs : ', nClasses)\n",
        "print('Output classes : ', classes)"
      ]
    },
    {
      "cell_type": "code",
      "execution_count": null,
      "metadata": {
        "colab": {
          "base_uri": "https://localhost:8080/"
        },
        "id": "_mlr178SrLhC",
        "outputId": "15530220-fafc-4e0b-ce06-93dce98b465c"
      },
      "outputs": [
        {
          "output_type": "stream",
          "name": "stdout",
          "text": [
            "Training data shape :  (614, 128, 128, 3) (614,)\n",
            "Testing data shape :  (154, 128, 128, 3) (154,)\n"
          ]
        }
      ],
      "source": [
        "train_X,test_X,train_Y,test_Y = train_test_split(X,y,test_size=0.2)\n",
        "print('Training data shape : ', train_X.shape, train_Y.shape)\n",
        "print('Testing data shape : ', test_X.shape, test_Y.shape)"
      ]
    },
    {
      "cell_type": "code",
      "execution_count": null,
      "metadata": {
        "colab": {
          "base_uri": "https://localhost:8080/"
        },
        "id": "cBloc9zBqTr5",
        "outputId": "35b2c026-29a9-4c9a-dddc-8b96a0cbb94b"
      },
      "outputs": [
        {
          "output_type": "stream",
          "name": "stdout",
          "text": [
            "train_X shape: (614, 128, 128, 3)\n",
            "614 train samples\n",
            "154 test samples\n"
          ]
        }
      ],
      "source": [
        "\n",
        "img_x = 128\n",
        "img_y = 128\n",
        "img_z = 3\n",
        "num_classes = 6\n",
        "\n",
        "batch_size = 16\n",
        "epochs = 10\n",
        "\n",
        "# reshape the data into a 4D tensor - (sample_number, x_img_size, y_img_size, num_channels)\n",
        "# because the MNIST is greyscale, we only have a single channel - RGB colour images would have 3\n",
        "input_shape = (img_x, img_y, img_z)\n",
        "\n",
        "# convert the data to the right type\n",
        "#train_X = train_X.reshape(train_X.shape[0], img_x, img_y, img_z)\n",
        "#test_X = test_X.reshape(test_X.shape[0], img_x, img_y, img_z)\n",
        "train_X = train_X.astype('float32')\n",
        "test_X = test_X.astype('float32')\n",
        "\n",
        "print('train_X shape:', train_X.shape)\n",
        "print(train_X.shape[0], 'train samples')\n",
        "print(test_X.shape[0], 'test samples')\n",
        "\n",
        "# convert class vectors to binary class matrices - this is for use in the\n",
        "# categorical_crossentropy loss below\n",
        "train_Y = tf.keras.utils.to_categorical(train_Y, num_classes)\n",
        "test_Y = tf.keras.utils.to_categorical(test_Y, num_classes)"
      ]
    },
    {
      "cell_type": "code",
      "execution_count": null,
      "metadata": {
        "id": "Ms_w5_rmqHTU",
        "colab": {
          "base_uri": "https://localhost:8080/"
        },
        "outputId": "7d4afd00-c0ce-4b76-f41c-91729a041514"
      },
      "outputs": [
        {
          "output_type": "stream",
          "name": "stdout",
          "text": [
            "Epoch 1/10\n",
            "39/39 [==============================] - 2s 30ms/step - loss: 2.2288 - accuracy: 0.1629 - val_loss: 1.7718 - val_accuracy: 0.2013\n",
            "Epoch 2/10\n",
            "39/39 [==============================] - 1s 24ms/step - loss: 1.7279 - accuracy: 0.2362 - val_loss: 1.7301 - val_accuracy: 0.2987\n",
            "Epoch 3/10\n",
            "39/39 [==============================] - 1s 24ms/step - loss: 1.4980 - accuracy: 0.4169 - val_loss: 1.6226 - val_accuracy: 0.4351\n",
            "Epoch 4/10\n",
            "39/39 [==============================] - 1s 24ms/step - loss: 1.1699 - accuracy: 0.5977 - val_loss: 1.5570 - val_accuracy: 0.5130\n",
            "Epoch 5/10\n",
            "39/39 [==============================] - 1s 24ms/step - loss: 0.7802 - accuracy: 0.7345 - val_loss: 1.4476 - val_accuracy: 0.5844\n",
            "Epoch 6/10\n",
            "39/39 [==============================] - 1s 23ms/step - loss: 0.5356 - accuracy: 0.7997 - val_loss: 1.2598 - val_accuracy: 0.6039\n",
            "Epoch 7/10\n",
            "39/39 [==============================] - 1s 24ms/step - loss: 0.4024 - accuracy: 0.8534 - val_loss: 1.2186 - val_accuracy: 0.6688\n",
            "Epoch 8/10\n",
            "39/39 [==============================] - 1s 26ms/step - loss: 0.3845 - accuracy: 0.8616 - val_loss: 1.0819 - val_accuracy: 0.6883\n",
            "Epoch 9/10\n",
            "39/39 [==============================] - 1s 24ms/step - loss: 0.2835 - accuracy: 0.8909 - val_loss: 1.0533 - val_accuracy: 0.7208\n",
            "Epoch 10/10\n",
            "39/39 [==============================] - 1s 24ms/step - loss: 0.2543 - accuracy: 0.9072 - val_loss: 0.9951 - val_accuracy: 0.7208\n",
            "Train loss: 0.2048468440771103, Train accuracy: 0.9169381260871887\n",
            "Test loss: 0.9950896501541138, Test accuracy: 0.7207792401313782\n"
          ]
        }
      ],
      "source": [
        "\n",
        "custom_early_stopping = EarlyStopping(monitor=\"loss\",patience=7)\n",
        "model = Sequential()\n",
        "model.add(Conv2D(32, kernel_size=(3, 3), strides=(1, 1), activation='relu', input_shape=input_shape))\n",
        "model.add(MaxPooling2D(pool_size=(2, 2), strides=(2, 2)))\n",
        "model.add(Conv2D(64, (3, 3), activation='relu'))\n",
        "model.add(MaxPooling2D(pool_size=(2, 2)))\n",
        "model.add(Flatten())\n",
        "model.add(Dense(1000, activation='relu'))\n",
        "model.add(Dense(num_classes, activation='softmax'))\n",
        "\n",
        "\n",
        "\n",
        "model.compile(loss=tf.keras.losses.categorical_crossentropy,\n",
        "              optimizer=tf.keras.optimizers.Adam(),\n",
        "              metrics=['accuracy'])\n",
        "\n",
        "model_train = model.fit(train_X, train_Y, batch_size=batch_size,\n",
        "          epochs=epochs, verbose=1,\n",
        "          validation_data=(test_X, test_Y),\n",
        "          callbacks=[custom_early_stopping])\n",
        "\n",
        "train_score = model.evaluate(train_X, train_Y, verbose=0)\n",
        "print('Train loss: {}, Train accuracy: {}'.format(train_score[0], train_score[1]))\n",
        "test_score = model.evaluate(test_X, test_Y, verbose=0)\n",
        "print('Test loss: {}, Test accuracy: {}'.format(test_score[0], test_score[1]))"
      ]
    },
    {
      "cell_type": "code",
      "source": [
        "accuracy = model_train.history['accuracy']\n",
        "val_accuracy = model_train.history['val_accuracy']\n",
        "loss = model_train.history['loss']\n",
        "val_loss = model_train.history['val_loss']\n",
        "epochs = range(len(accuracy))\n",
        "plt.plot(epochs, accuracy, 'bo', label='Training accuracy')\n",
        "plt.plot(epochs, val_accuracy, 'b', label='Validation accuracy')\n",
        "plt.title('Training and validation accuracy')\n",
        "plt.legend()\n",
        "plt.figure()\n",
        "plt.plot(epochs, loss, 'bo', label='Training loss')\n",
        "plt.plot(epochs, val_loss, 'b', label='Validation loss')\n",
        "plt.title('Training and validation loss')\n",
        "plt.legend()\n",
        "plt.show()"
      ],
      "metadata": {
        "colab": {
          "base_uri": "https://localhost:8080/",
          "height": 545
        },
        "id": "K6EL2lPdI8rG",
        "outputId": "ab2c06a7-1304-49d1-eeda-fa795c6cc526"
      },
      "execution_count": null,
      "outputs": [
        {
          "output_type": "display_data",
          "data": {
            "text/plain": [
              "<Figure size 432x288 with 1 Axes>"
            ],
            "image/png": "[encoded data removed]"
          },
          "metadata": {
            "needs_background": "light"
          }
        },
        {
          "output_type": "display_data",
          "data": {
            "text/plain": [
              "<Figure size 432x288 with 1 Axes>"
            ],
            "image/png": "[encoded data removed]"
          },
          "metadata": {
            "needs_background": "light"
          }
        }
      ]
    },
    {
      "cell_type": "code",
      "source": [
        "# guardamos la red, para reutilizarla en el futuro, sin tener que volver a entrenar\n",
        "model.save(\"model_CNN.h5py\")"
      ],
      "metadata": {
        "id": "glwu_nsnN_I6"
      },
      "execution_count": null,
      "outputs": []
    },
    {
      "cell_type": "code",
      "source": [
        "predicted_classes2 = model.predict(test_X)"
      ],
      "metadata": {
        "id": "ltb2_F8gLuwe"
      },
      "execution_count": null,
      "outputs": []
    },
    {
      "cell_type": "code",
      "source": [
        "predicted_classes=[]\n",
        "for predicted_sport in predicted_classes2:\n",
        "    predicted_classes.append(predicted_sport.tolist().index(max(predicted_sport)))\n",
        "predicted_classes=np.array(predicted_classes)"
      ],
      "metadata": {
        "id": "FltHo13EL10k"
      },
      "execution_count": null,
      "outputs": []
    },
    {
      "cell_type": "code",
      "source": [
        "predicted_classes.shape, test_Y.shape"
      ],
      "metadata": {
        "colab": {
          "base_uri": "https://localhost:8080/"
        },
        "id": "p-l1OSkXMNw8",
        "outputId": "ac1efa5b-fb0a-4efc-879f-641f5220fbf0"
      },
      "execution_count": null,
      "outputs": [
        {
          "output_type": "execute_result",
          "data": {
            "text/plain": [
              "((154,), (154, 6))"
            ]
          },
          "metadata": {},
          "execution_count": 135
        }
      ]
    },
    {
      "cell_type": "code",
      "source": [
        "from skimage.transform import resize\n",
        "\n",
        "images=[]\n",
        "# AQUI ESPECIFICAMOS UNAS IMAGENES\n",
        "filenames = ['/content/drive/MyDrive/TESIS/VALIDACIÓN_EXPERMENTOS_CWT/ONE_TO_ONE/P4_128/Clase_4/CWT9.png']\n",
        "\n",
        "for filepath in filenames:\n",
        "    image = plt.imread(filepath,0)\n",
        "    image_resized = resize(image, (128, 128),anti_aliasing=True,clip=False,preserve_range=True)\n",
        "    images.append(image_resized)\n",
        "\n",
        "X = np.array(images, dtype=np.uint8) #convierto de lista a numpy\n",
        "test_X = X.astype('float32')\n",
        "test_X = test_X / 255.\n",
        "\n",
        "predicted_classes = model.predict(test_X)\n",
        "\n",
        "for i, img_tagged in enumerate(predicted_classes):\n",
        "    print(filenames[i], posturas[img_tagged.tolist().index(max(img_tagged))])"
      ],
      "metadata": {
        "colab": {
          "base_uri": "https://localhost:8080/"
        },
        "id": "h7-QXRPaIcjA",
        "outputId": "1ff63abc-5601-4fd2-a2b2-0e139ddf8e51"
      },
      "execution_count": null,
      "outputs": [
        {
          "output_type": "stream",
          "name": "stdout",
          "text": [
            "/content/drive/MyDrive/TESIS/VALIDACIÓN_EXPERMENTOS_CWT/ONE_TO_ONE/P4_128/Clase_4/CWT9.png Clase_4\n"
          ]
        }
      ]
    }
  ],
  "metadata": {
    "accelerator": "GPU",
    "colab": {
      "provenance": []
    },
    "gpuClass": "standard",
    "kernelspec": {
      "display_name": "Python 3",
      "name": "python3"
    },
    "language_info": {
      "name": "python"
    }
  },
  "nbformat": 4,
  "nbformat_minor": 0
}